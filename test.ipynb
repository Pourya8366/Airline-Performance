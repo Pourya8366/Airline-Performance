{
 "cells": [
  {
   "cell_type": "code",
   "execution_count": 7,
   "metadata": {},
   "outputs": [
    {
     "name": "stdout",
     "output_type": "stream",
     "text": [
      "{0: '2018', 1: '1', 2: '2', 3: '19', 4: '1', 5: '2018-02-19', 6: '\"9E\"', 7: '20363', 8: '\"9E\"', 9: '\"N914XJ\"', 10: '\"4041\"', 11: '12478', 12: '1247805', 13: '31703', 14: '\"JFK\"', 15: '\"New York', 16: ' NY\"', 17: '\"NY\"', 18: '\"36\"', 19: '\"New York\"', 20: '22', 21: '12451', 22: '1245102', 23: '31136', 24: '\"JAX\"', 25: '\"Jacksonville', 26: ' FL\"', 27: '\"FL\"', 28: '\"12\"', 29: '\"Florida\"', 30: '33', 31: '\"1926\"', 32: '\"1926\"', 33: '', 34: '', 35: '', 36: '', 37: '\"1900-1959\"', 38: '39.00', 39: '\"2005\"', 40: '\"2204\"', 41: '7.00', 42: '\"2227\"', 43: '\"2211\"', 44: '-16.00', 45: '0.00', 46: '0.00', 47: '-2', 48: '\"2200-2259\"', 49: '0.00', 50: '\"\"', 51: '0.00', 52: '181.00', 53: '165.00', 54: '119.00', 55: '1.00', 56: '828.00', 57: '4', 58: '', 59: '', 60: '', 61: '', 62: '', 63: '\"\"', 64: '', 65: '', 66: '0', 67: '', 68: '', 69: '', 70: '', 71: '\"\"', 72: '', 73: '', 74: '\"\"', 75: '', 76: '', 77: '\"\"', 78: '\"\"', 79: '\"\"', 80: '', 81: '', 82: '\"\"', 83: '', 84: '', 85: '\"\"', 86: '\"\"', 87: '\"\"', 88: '', 89: '', 90: '\"\"', 91: '', 92: '', 93: '\"\"', 94: '\"\"', 95: '\"\"', 96: '', 97: '', 98: '\"\"', 99: '', 100: '', 101: '\"\"', 102: '\"\"', 103: '\"\"', 104: '', 105: '', 106: '\"\"', 107: '', 108: '', 109: '\"\"', 110: '\"\"\\n'}\n"
     ]
    }
   ],
   "source": [
    "csv = open('airline_2m.csv', 'r')\n",
    "count = 0\n",
    "\n",
    "i = 1\n",
    "# Using for loop\n",
    "for line in csv:\n",
    "    flight = line.split(\",\")\n",
    "    if i == 13489:\n",
    "        j = 0\n",
    "        result = {}\n",
    "        for par in flight:\n",
    "            result[j] = par\n",
    "            j += 1\n",
    "    i +=1\n",
    "\n",
    "print(result)"
   ]
  },
  {
   "cell_type": "code",
   "execution_count": null,
   "metadata": {},
   "outputs": [],
   "source": [
    "csv = open('airline_2m.csv', 'r')\n",
    "count = 0\n",
    "\n",
    "i = 1\n",
    "# Using for loop\n",
    "for line in csv:\n",
    "    flight = line.split(\",\")\n",
    "    if i == 13489:\n",
    "        j = 0\n",
    "        result = {}\n",
    "        for par in flight:\n",
    "            result[j] = par\n",
    "            j += 1\n",
    "    i +=1"
   ]
  },
  {
   "cell_type": "code",
   "execution_count": 13,
   "metadata": {},
   "outputs": [],
   "source": [
    "string = '1993,4,12,12,7,1993-12-12,\"NW\",19386,\"NW\",\"\",\"695\",11433,1143301,31295,\"DTW\",\"Detroit, MI\",\"MI\",\"26\",\"Michigan\",43,11298,1129802,30194,\"DFW\",\"Dallas/Fort Worth, TX\",\"TX\",\"48\",\"Texas\",74,\"1905\",\"1922\",17.00,17.00,1.00,1,\"1900-1959\",,\"\",\"\",,\"2108\",\"\",,,,,\"2100-2159\",0.00,\"\",1.00,183.00,,,1.00,987.00,4,,,,,,\"\",,,,,,,,\"\",,,\"\",,,\"\",\"\",\"\",,,\"\",,,\"\",\"\",\"\",,,\"\",,,\"\",\"\",\"\",,,\"\",,,\"\",\"\",\"\",,,\"\",,,\"\",\"\"'"
   ]
  },
  {
   "cell_type": "code",
   "execution_count": 14,
   "metadata": {},
   "outputs": [],
   "source": [
    "flight = string.split(\",\")"
   ]
  },
  {
   "cell_type": "code",
   "execution_count": 15,
   "metadata": {},
   "outputs": [
    {
     "name": "stdout",
     "output_type": "stream",
     "text": [
      "True\n"
     ]
    }
   ],
   "source": [
    "print(flight[49] == \"0.00\")"
   ]
  },
  {
   "cell_type": "code",
   "execution_count": 16,
   "metadata": {},
   "outputs": [
    {
     "name": "stdout",
     "output_type": "stream",
     "text": [
      "DTW\n"
     ]
    }
   ],
   "source": [
    "print(flight[14].strip('\"'))"
   ]
  },
  {
   "cell_type": "code",
   "execution_count": 17,
   "metadata": {},
   "outputs": [],
   "source": [
    "i = 0\n",
    "result = {}\n",
    "for par in flight:\n",
    "    result[i] = par\n",
    "    i += 1"
   ]
  },
  {
   "cell_type": "code",
   "execution_count": 18,
   "metadata": {},
   "outputs": [
    {
     "name": "stdout",
     "output_type": "stream",
     "text": [
      "{0: '1993', 1: '4', 2: '12', 3: '12', 4: '7', 5: '1993-12-12', 6: '\"NW\"', 7: '19386', 8: '\"NW\"', 9: '\"\"', 10: '\"695\"', 11: '11433', 12: '1143301', 13: '31295', 14: '\"DTW\"', 15: '\"Detroit', 16: ' MI\"', 17: '\"MI\"', 18: '\"26\"', 19: '\"Michigan\"', 20: '43', 21: '11298', 22: '1129802', 23: '30194', 24: '\"DFW\"', 25: '\"Dallas/Fort Worth', 26: ' TX\"', 27: '\"TX\"', 28: '\"48\"', 29: '\"Texas\"', 30: '74', 31: '\"1905\"', 32: '\"1922\"', 33: '17.00', 34: '17.00', 35: '1.00', 36: '1', 37: '\"1900-1959\"', 38: '', 39: '\"\"', 40: '\"\"', 41: '', 42: '\"2108\"', 43: '\"\"', 44: '', 45: '', 46: '', 47: '', 48: '\"2100-2159\"', 49: '0.00', 50: '\"\"', 51: '1.00', 52: '183.00', 53: '', 54: '', 55: '1.00', 56: '987.00', 57: '4', 58: '', 59: '', 60: '', 61: '', 62: '', 63: '\"\"', 64: '', 65: '', 66: '', 67: '', 68: '', 69: '', 70: '', 71: '\"\"', 72: '', 73: '', 74: '\"\"', 75: '', 76: '', 77: '\"\"', 78: '\"\"', 79: '\"\"', 80: '', 81: '', 82: '\"\"', 83: '', 84: '', 85: '\"\"', 86: '\"\"', 87: '\"\"', 88: '', 89: '', 90: '\"\"', 91: '', 92: '', 93: '\"\"', 94: '\"\"', 95: '\"\"', 96: '', 97: '', 98: '\"\"', 99: '', 100: '', 101: '\"\"', 102: '\"\"', 103: '\"\"', 104: '', 105: '', 106: '\"\"', 107: '', 108: '', 109: '\"\"', 110: '\"\"'}\n"
     ]
    }
   ],
   "source": [
    "print(result)"
   ]
  },
  {
   "cell_type": "code",
   "execution_count": 9,
   "metadata": {},
   "outputs": [],
   "source": [
    "delay = float(flight[33]) + float(flight[44])\n"
   ]
  },
  {
   "cell_type": "code",
   "execution_count": 10,
   "metadata": {},
   "outputs": [
    {
     "data": {
      "text/plain": [
       "-2.0"
      ]
     },
     "execution_count": 10,
     "metadata": {},
     "output_type": "execute_result"
    }
   ],
   "source": [
    "delay"
   ]
  },
  {
   "cell_type": "code",
   "execution_count": 12,
   "metadata": {},
   "outputs": [],
   "source": [
    "test_dict = [[\"a\", delay],[\"b\", delay],[\"c\", delay], [\"c\", delay]]"
   ]
  },
  {
   "cell_type": "code",
   "execution_count": 13,
   "metadata": {},
   "outputs": [],
   "source": [
    "flights_dict = {}\n",
    "for test in test_dict:\n",
    "    flights_dict.setdefault(test[0], [0, 0])\n",
    "\n",
    "    flights_dict[test[0]] = [flights_dict[test[0]][0]+1, flights_dict[test[0]][1]+ test[1]]"
   ]
  },
  {
   "cell_type": "code",
   "execution_count": 14,
   "metadata": {},
   "outputs": [
    {
     "data": {
      "text/plain": [
       "{'a': [1, -2.0], 'b': [1, -2.0], 'c': [2, -4.0]}"
      ]
     },
     "execution_count": 14,
     "metadata": {},
     "output_type": "execute_result"
    }
   ],
   "source": [
    "flights_dict"
   ]
  },
  {
   "cell_type": "code",
   "execution_count": 15,
   "metadata": {},
   "outputs": [],
   "source": [
    "dict1 = flights_dict['a']"
   ]
  },
  {
   "cell_type": "code",
   "execution_count": 18,
   "metadata": {},
   "outputs": [],
   "source": [
    "dict1[1] = 3.5"
   ]
  },
  {
   "cell_type": "code",
   "execution_count": 19,
   "metadata": {},
   "outputs": [
    {
     "data": {
      "text/plain": [
       "3.5"
      ]
     },
     "execution_count": 19,
     "metadata": {},
     "output_type": "execute_result"
    }
   ],
   "source": [
    "dict1[1]"
   ]
  }
 ],
 "metadata": {
  "interpreter": {
   "hash": "b89b5cfaba6639976dc87ff2fec6d58faec662063367e2c229c520fe71072417"
  },
  "kernelspec": {
   "display_name": "Python 3.10.1 64-bit",
   "language": "python",
   "name": "python3"
  },
  "language_info": {
   "codemirror_mode": {
    "name": "ipython",
    "version": 3
   },
   "file_extension": ".py",
   "mimetype": "text/x-python",
   "name": "python",
   "nbconvert_exporter": "python",
   "pygments_lexer": "ipython3",
   "version": "3.9.10"
  },
  "orig_nbformat": 4
 },
 "nbformat": 4,
 "nbformat_minor": 2
}
