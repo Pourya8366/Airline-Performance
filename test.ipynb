{
 "cells": [
  {
   "cell_type": "code",
   "execution_count": 13,
   "metadata": {},
   "outputs": [],
   "source": [
    "string = '2009,2,5,28,4,5/28/2009,FL,20437,FL,N946AT,671,13342,1334202,33342,MKE,\"Milwaukee, WI\",WI,55,Wisconsin,45,13204,1320401,31454,MCO,\"Orlando, FL\",FL,12,Florida,33,1204,1202,-2,0,0,-1,1200-1259,10,1212,1533,8,1541,1541,0,0,0,0,1500-1559,0,,0,157,159,141,1,1066,5,,,,,,,,,0'"
   ]
  },
  {
   "cell_type": "code",
   "execution_count": 14,
   "metadata": {},
   "outputs": [],
   "source": [
    "row = string.split(\",\")"
   ]
  },
  {
   "cell_type": "code",
   "execution_count": 15,
   "metadata": {},
   "outputs": [],
   "source": [
    "i = 0\n",
    "result = {}\n",
    "for par in row:\n",
    "    result[i] = par\n",
    "    i += 1"
   ]
  },
  {
   "cell_type": "code",
   "execution_count": 16,
   "metadata": {},
   "outputs": [
    {
     "name": "stdout",
     "output_type": "stream",
     "text": [
      "{0: '2009', 1: '2', 2: '5', 3: '28', 4: '4', 5: '5/28/2009', 6: 'FL', 7: '20437', 8: 'FL', 9: 'N946AT', 10: '671', 11: '13342', 12: '1334202', 13: '33342', 14: 'MKE', 15: '\"Milwaukee', 16: ' WI\"', 17: 'WI', 18: '55', 19: 'Wisconsin', 20: '45', 21: '13204', 22: '1320401', 23: '31454', 24: 'MCO', 25: '\"Orlando', 26: ' FL\"', 27: 'FL', 28: '12', 29: 'Florida', 30: '33', 31: '1204', 32: '1202', 33: '-2', 34: '0', 35: '0', 36: '-1', 37: '1200-1259', 38: '10', 39: '1212', 40: '1533', 41: '8', 42: '1541', 43: '1541', 44: '0', 45: '0', 46: '0', 47: '0', 48: '1500-1559', 49: '0', 50: '', 51: '0', 52: '157', 53: '159', 54: '141', 55: '1', 56: '1066', 57: '5', 58: '', 59: '', 60: '', 61: '', 62: '', 63: '', 64: '', 65: '', 66: '0'}\n"
     ]
    }
   ],
   "source": [
    "print(result)"
   ]
  },
  {
   "cell_type": "code",
   "execution_count": 17,
   "metadata": {},
   "outputs": [],
   "source": [
    "delay = int(row[33]) + int(row[44])\n"
   ]
  },
  {
   "cell_type": "code",
   "execution_count": 18,
   "metadata": {},
   "outputs": [
    {
     "data": {
      "text/plain": [
       "-2"
      ]
     },
     "execution_count": 18,
     "metadata": {},
     "output_type": "execute_result"
    }
   ],
   "source": [
    "delay"
   ]
  },
  {
   "cell_type": "code",
   "execution_count": 19,
   "metadata": {},
   "outputs": [],
   "source": [
    "test_dict = [[\"a\", delay],[\"b\", delay],[\"c\", delay], [\"c\", delay]]"
   ]
  },
  {
   "cell_type": "code",
   "execution_count": 20,
   "metadata": {},
   "outputs": [],
   "source": [
    "flights_dict = {}\n",
    "for test in test_dict:\n",
    "    flights_dict.setdefault(test[0], [0, 0])\n",
    "\n",
    "    flights_dict[test[0]] = [flights_dict[test[0]][0]+1, flights_dict[test[0]][1]+ test[1]]"
   ]
  },
  {
   "cell_type": "code",
   "execution_count": 21,
   "metadata": {},
   "outputs": [
    {
     "data": {
      "text/plain": [
       "{'a': [1, -2], 'b': [1, -2], 'c': [2, -4]}"
      ]
     },
     "execution_count": 21,
     "metadata": {},
     "output_type": "execute_result"
    }
   ],
   "source": [
    "flights_dict"
   ]
  }
 ],
 "metadata": {
  "interpreter": {
   "hash": "b89b5cfaba6639976dc87ff2fec6d58faec662063367e2c229c520fe71072417"
  },
  "kernelspec": {
   "display_name": "Python 3.10.1 64-bit",
   "language": "python",
   "name": "python3"
  },
  "language_info": {
   "codemirror_mode": {
    "name": "ipython",
    "version": 3
   },
   "file_extension": ".py",
   "mimetype": "text/x-python",
   "name": "python",
   "nbconvert_exporter": "python",
   "pygments_lexer": "ipython3",
   "version": "3.9.10"
  },
  "orig_nbformat": 4
 },
 "nbformat": 4,
 "nbformat_minor": 2
}
