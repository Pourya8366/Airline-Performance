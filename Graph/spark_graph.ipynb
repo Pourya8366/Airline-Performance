{
 "cells": [
  {
   "cell_type": "code",
   "execution_count": null,
   "metadata": {},
   "outputs": [],
   "source": [
    "from pyspark.sql import SparkSession\n",
    "from pyspark.sql.functions import *\n",
    "from pyspark.sql.types import *\n",
    "from graphframes import *"
   ]
  },
  {
   "cell_type": "code",
   "execution_count": null,
   "metadata": {},
   "outputs": [],
   "source": [
    "spark = SparkSession.builder.appName(\"Airline Performance\").getOrCreate()"
   ]
  },
  {
   "cell_type": "code",
   "execution_count": null,
   "metadata": {},
   "outputs": [],
   "source": [
    "#Graphframe\n",
    "flights = spark.read.option(\"header\",True).csv('hdfs:///airline/airline_2m.csv')\n",
    "flights.createOrReplaceTempView(\"flights\")\n",
    "\n",
    "#define vertices\n",
    "airports = spark.sql(\"select Origin as id from flights union select Dest from flights\")\n",
    "airports.createOrReplaceTempView(\"airports\")\n",
    "\n",
    "#define edges\n",
    "edges = spark.sql(\"select Origin as src, Dest as dst from flights\")\n",
    "edges.createOrReplaceTempView(\"edges\")\n",
    "\n",
    "#initializing the graph\n",
    "graph = GraphFrame(airports, edges)"
   ]
  },
  {
   "cell_type": "code",
   "execution_count": null,
   "metadata": {},
   "outputs": [],
   "source": [
    "#BFS Algorithm\n",
    "%%timeit -n1 -r1\n",
    "result = graph.bfs(fromExpr = \"id = 'LAX'\", toExpr = \"id = 'LGA'\", maxPathLength = 2)"
   ]
  }
 ],
 "metadata": {
  "interpreter": {
   "hash": "31f2aee4e71d21fbe5cf8b01ff0e069b9275f58929596ceb00d14d90e3e16cd6"
  },
  "kernelspec": {
   "display_name": "Python 3 (ipykernel)",
   "language": "python",
   "name": "python3"
  },
  "language_info": {
   "codemirror_mode": {
    "name": "ipython",
    "version": 3
   },
   "file_extension": ".py",
   "mimetype": "text/x-python",
   "name": "python",
   "nbconvert_exporter": "python",
   "pygments_lexer": "ipython3",
   "version": "3.8.10"
  }
 },
 "nbformat": 4,
 "nbformat_minor": 2
}
