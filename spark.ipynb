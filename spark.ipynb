{
 "cells": [
  {
   "cell_type": "code",
   "execution_count": 2,
   "metadata": {},
   "outputs": [],
   "source": [
    "from pyspark.sql import SparkSession"
   ]
  },
  {
   "cell_type": "code",
   "execution_count": null,
   "metadata": {},
   "outputs": [],
   "source": [
    "spark = SparkSession.builder.appName(\"Airline Performance\").getOrCreate()"
   ]
  },
  {
   "cell_type": "code",
   "execution_count": null,
   "metadata": {},
   "outputs": [],
   "source": [
    "#read records and make sql dataframe\n",
    "flights = spark.read.option(\"header\",True).csv('hdfs:///airline_performance/airline_2m.csv')\n",
    "flights.createOrReplaceTempView(\"flights\")"
   ]
  },
  {
   "cell_type": "code",
   "execution_count": 5,
   "metadata": {},
   "outputs": [],
   "source": [
    "#find airports as nodes in graph\n",
    "airports = spark.sql(\"select Origin as airport from flights union select Dest from flights\")"
   ]
  },
  {
   "cell_type": "code",
   "execution_count": 6,
   "metadata": {},
   "outputs": [],
   "source": [
    "#(origin airport, dest airport, airline) key stats as edges\n",
    "stats = spark.sql(\"select Origin as src, Dest as dst, Reporting_Airline as relationship, sum(cast(DepDelay as int)) as Departure_Delay, sum(cast(ArrDelay as int)) as Arrival_Delay, sum(cast(ActualElapsedTime as int) - cast(CRSElapsedTime as int)) as Wasted_Time, sum(cast(Cancelled as int)) as Cancelled, sum(cast(Diverted as int)) as Diverted, count(*) as Flights_Count from flights group by Origin, Dest, Reporting_Airline\")"
   ]
  },
  {
   "cell_type": "code",
   "execution_count": null,
   "metadata": {},
   "outputs": [],
   "source": [
    "airports.coalesce(1).write.csv(\"hdfs:///airline_performance/dest\")"
   ]
  }
 ],
 "metadata": {
  "interpreter": {
   "hash": "31f2aee4e71d21fbe5cf8b01ff0e069b9275f58929596ceb00d14d90e3e16cd6"
  },
  "kernelspec": {
   "display_name": "Python 3 (ipykernel)",
   "language": "python",
   "name": "python3"
  },
  "language_info": {
   "codemirror_mode": {
    "name": "ipython",
    "version": 3
   },
   "file_extension": ".py",
   "mimetype": "text/x-python",
   "name": "python",
   "nbconvert_exporter": "python",
   "pygments_lexer": "ipython3",
   "version": "3.8.10"
  },
  "orig_nbformat": 4
 },
 "nbformat": 4,
 "nbformat_minor": 2
}
